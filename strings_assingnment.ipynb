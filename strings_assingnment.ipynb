{
 "cells": [
  {
   "cell_type": "code",
   "execution_count": 1,
   "id": "05657086",
   "metadata": {},
   "outputs": [
    {
     "data": {
      "text/plain": [
       "'she is good'"
      ]
     },
     "execution_count": 1,
     "metadata": {},
     "output_type": "execute_result"
    }
   ],
   "source": [
    "#write a python programto convert a string to lower case\n",
    "s=\"SHE IS GOOD\"\n",
    "s.lower()"
   ]
  },
  {
   "cell_type": "code",
   "execution_count": 44,
   "id": "931d9850",
   "metadata": {},
   "outputs": [
    {
     "name": "stdout",
     "output_type": "stream",
     "text": [
      "PyThOn"
     ]
    }
   ],
   "source": [
    "#write a python program to convert only odd indexed characters to lower case \n",
    "s=\"PYTHON\"\n",
    "for i in range(len(s)):\n",
    "    if i%2==0:\n",
    "        s[i].upper()\n",
    "        print(s[i].upper(),end=\"\")\n",
    "    else:\n",
    "        print(s[i].lower(),end=\"\")"
   ]
  },
  {
   "cell_type": "code",
   "execution_count": 3,
   "id": "63ce070d",
   "metadata": {},
   "outputs": [
    {
     "name": "stdout",
     "output_type": "stream",
     "text": [
      "pYtHoN"
     ]
    }
   ],
   "source": [
    "#write a python program to convert only even indexed characters to lower case \n",
    "s=\"PYTHON\"\n",
    "for i in range(len(s)):\n",
    "    if i%2==0:\n",
    "        s[i].upper()\n",
    "        print(s[i].upper(),end=\"\")\n",
    "    else:\n",
    "        print(s[i],end=\"\")"
   ]
  },
  {
   "cell_type": "code",
   "execution_count": 4,
   "id": "a380fe9d",
   "metadata": {},
   "outputs": [
    {
     "name": "stdout",
     "output_type": "stream",
     "text": [
      "pYtHoN"
     ]
    }
   ],
   "source": [
    "#write a python program to convert only odd indexed characters to upper case \n",
    "s=\"PYTHON\"\n",
    "for i in range(len(s)):\n",
    "    if i%2==0:\n",
    "        s[i].lower()\n",
    "        print(s[i].lower(),end=\"\")\n",
    "    else:\n",
    "        print(s[i].upper(),end=\"\")"
   ]
  },
  {
   "cell_type": "code",
   "execution_count": 5,
   "id": "6c6e16f1",
   "metadata": {},
   "outputs": [
    {
     "name": "stdout",
     "output_type": "stream",
     "text": [
      "PyThOn"
     ]
    }
   ],
   "source": [
    "#write a python program to convert only even indexed characters to upper case \n",
    "s=\"PYTHON\"\n",
    "for i in range(len(s)):\n",
    "    if i%2==0:\n",
    "        s[i].upper()\n",
    "        print(s[i].upper(),end=\"\")\n",
    "    else:\n",
    "        print(s[i].lower(),end=\"\")"
   ]
  },
  {
   "cell_type": "code",
   "execution_count": 33,
   "id": "53d4de77",
   "metadata": {},
   "outputs": [
    {
     "name": "stdout",
     "output_type": "stream",
     "text": [
      "My name is shivani,My gender is female,My age is 22,My phone num is 1234567896,My father's name is raju,My mother's name is rani\n"
     ]
    }
   ],
   "source": [
    "#write a python program where you have diff variables which contains your name,gender,age,phone num,fathers name and mothers name by using this variable create a variable named bio data where you will use all this variable\n",
    "\n",
    "a=\"shivani\"\n",
    "b=\"female\"\n",
    "c=\"22\"\n",
    "d=\"1234567896\"\n",
    "e=\"raju\"\n",
    "f=\"rani\"\n",
    "bio_data=print(\"My name is {},My gender is {},My age is {},My phone num is {},My father's name is {},My mother's name is {}\".format(a,b,c,d,e,f))"
   ]
  },
  {
   "cell_type": "code",
   "execution_count": 7,
   "id": "b7137ecb",
   "metadata": {},
   "outputs": [
    {
     "data": {
      "text/plain": [
       "2"
      ]
     },
     "execution_count": 7,
     "metadata": {},
     "output_type": "execute_result"
    }
   ],
   "source": [
    "#write a program to count how many times \"@\" occured\n",
    "s=\"s@ndhy@\"\n",
    "s.count(\"@\")"
   ]
  },
  {
   "cell_type": "code",
   "execution_count": 46,
   "id": "8575ac47",
   "metadata": {},
   "outputs": [
    {
     "data": {
      "text/plain": [
       "'shivani ,rasagna ,chitty '"
      ]
     },
     "execution_count": 46,
     "metadata": {},
     "output_type": "execute_result"
    }
   ],
   "source": [
    "#write a program to get only names from the string\n",
    "s=(\"shivani.@gmail.com,rasagna.@gmail.com,chitty.@gmail.com\")\n",
    "s.replace(\".@gmail.com\",\" \")"
   ]
  },
  {
   "cell_type": "code",
   "execution_count": 37,
   "id": "3e2b257f",
   "metadata": {},
   "outputs": [
    {
     "name": "stdout",
     "output_type": "stream",
     "text": [
      "bcdfghjklmnpqrstvwxyz"
     ]
    }
   ],
   "source": [
    "#write a program to remove vowels from the alphabets\n",
    "s=(\"abcdefghijklmnopqrstuvwxyz\")\n",
    "vowels=('a','e','i','o','u')\n",
    "for i in range(len(s)):\n",
    "    if s[i] not in vowels:\n",
    "        print(s[i],end=\"\")        "
   ]
  },
  {
   "cell_type": "code",
   "execution_count": 38,
   "id": "c9215914",
   "metadata": {},
   "outputs": [
    {
     "data": {
      "text/plain": [
       "2"
      ]
     },
     "execution_count": 38,
     "metadata": {},
     "output_type": "execute_result"
    }
   ],
   "source": [
    "#find the occurrence of a substring in a given string by ignoring the case\n",
    "s=\"Welcome to Innomatics.innomatics awesome,isn't it?\"\n",
    "t=s.casefold()\n",
    "e=\"innomatics\"\n",
    "v=t.count(e)\n",
    "v"
   ]
  },
  {
   "cell_type": "code",
   "execution_count": null,
   "id": "ac31e3ab",
   "metadata": {},
   "outputs": [],
   "source": []
  }
 ],
 "metadata": {
  "kernelspec": {
   "display_name": "Python 3 (ipykernel)",
   "language": "python",
   "name": "python3"
  },
  "language_info": {
   "codemirror_mode": {
    "name": "ipython",
    "version": 3
   },
   "file_extension": ".py",
   "mimetype": "text/x-python",
   "name": "python",
   "nbconvert_exporter": "python",
   "pygments_lexer": "ipython3",
   "version": "3.9.13"
  }
 },
 "nbformat": 4,
 "nbformat_minor": 5
}
